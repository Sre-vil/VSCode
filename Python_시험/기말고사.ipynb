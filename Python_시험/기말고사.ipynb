{
 "cells": [
  {
   "cell_type": "markdown",
   "metadata": {},
   "source": [
    "# 메뉴 생성(tkinter)"
   ]
  },
  {
   "cell_type": "markdown",
   "metadata": {},
   "source": [
    "## Ex01. [파일] 메뉴 아래에 [열기]와 [종료] 하위 메뉴가 있는 코드"
   ]
  },
  {
   "cell_type": "code",
   "execution_count": 6,
   "metadata": {},
   "outputs": [],
   "source": [
    "from tkinter import *\n",
    "\n",
    "window = Tk()\n",
    "\n",
    "# Menu(부모 윈도)로 mainMenu 변수 생성\n",
    "# mainMenu : '메뉴 자체'를 나타내는 변수\n",
    "mainMenu = Menu(window) \n",
    "\n",
    "# 생성한 메뉴 자체를 윈도창의 메뉴로 지정 \n",
    "window.config(menu=mainMenu)\n",
    "\n",
    "# 상위 메뉴인 [파일] 생성, 메뉴 자체에 부착\n",
    "# [파일] 메뉴는 선택하고 끝나는 것이 아니라, 그 아래에 다른 메뉴가 확장되어야 함 => add_cascade() 함수 사용\n",
    "fileMenu = Menu(mainMenu)\n",
    "mainMenu.add_cascade(label=\"파일\", menu=fileMenu)\n",
    "fileMenu.add_command(label=\"열기\")\n",
    "fileMenu.add_separator()\n",
    "fileMenu.add_command(label=\"종료\")\n",
    "\n",
    "window.mainloop()"
   ]
  },
  {
   "cell_type": "markdown",
   "metadata": {},
   "source": [
    "## Ex02. 메뉴 선택 시 작동 기능 추가"
   ]
  },
  {
   "cell_type": "code",
   "execution_count": 7,
   "metadata": {},
   "outputs": [],
   "source": [
    "from tkinter import *\n",
    "from tkinter import messagebox\n",
    "\n",
    "def func_open():\n",
    "    messagebox.showinfo(\"메뉴 선택\", \"열기 메뉴를 선택함\")\n",
    "\n",
    "def func_exit():\n",
    "    window.quit()\n",
    "    window.destroy()\n",
    "    \n",
    "window = Tk()\n",
    "\n",
    "mainMenu = Menu(window)\n",
    "window.config(menu=mainMenu)\n",
    "\n",
    "fileMenu = Menu(mainMenu)\n",
    "mainMenu.add_cascade(label=\"파일\", menu=fileMenu)\n",
    "fileMenu.add_command(label=\"열기\", command=func_open)\n",
    "fileMenu.add_separator()\n",
    "fileMenu.add_command(label='종료', command=func_exit)\n",
    "\n",
    "window.mainloop()"
   ]
  },
  {
   "cell_type": "markdown",
   "metadata": {},
   "source": [
    "## Ex03. 대화상자 생성과 사용"
   ]
  },
  {
   "cell_type": "code",
   "execution_count": 9,
   "metadata": {},
   "outputs": [],
   "source": [
    "from tkinter import *\n",
    "from tkinter.simpledialog import *\n",
    "\n",
    "window = Tk()\n",
    "window.geometry(\"400x100\")\n",
    "\n",
    "label1 = Label(window, text=\"입력된 값\")\n",
    "label1.pack()\n",
    "\n",
    "value = askinteger(\"확대 배수\", \"주사위 숫자(1~6)을 입력하세요.\", minvalue=1, maxvalue=6)\n",
    "\n",
    "label1.configure(text=str(value)) # 입력받은 숫자를 문자열로 변경해9서 레이블에 씀 \n",
    "window.mainloop()"
   ]
  },
  {
   "cell_type": "markdown",
   "metadata": {},
   "source": [
    "## Ex04. 그림 파일인 GIF 파일을 선택하는 코드"
   ]
  },
  {
   "cell_type": "code",
   "execution_count": 1,
   "metadata": {},
   "outputs": [],
   "source": [
    "from tkinter import *\n",
    "from tkinter.filedialog import *\n",
    "\n",
    "window = Tk()\n",
    "window.geometry(\"400x100\")\n",
    "\n",
    "label1=Label(window, text=\"선택된 파일 이름\")\n",
    "label1.pack()\n",
    "\n",
    "filename = askopenfilename(parent=window, filetypes=((\"GIF 파일\", \"*.gif\"), (\"모든 파일\", \"*.*\")))\n",
    "\n",
    "label1.configure(text=str(filename))\n",
    "\n",
    "window.mainloop()"
   ]
  },
  {
   "cell_type": "code",
   "execution_count": 2,
   "metadata": {},
   "outputs": [
    {
     "ename": "",
     "evalue": "",
     "output_type": "error",
     "traceback": [
      "\u001b[1;31m현재 셀 또는 이전 셀에서 코드를 실행하는 동안 Kernel이 충돌했습니다. \n",
      "\u001b[1;31m셀의 코드를 검토하여 가능한 오류 원인을 식별하세요. \n",
      "\u001b[1;31m자세한 내용을 보려면 <a href='https://aka.ms/vscodeJupyterKernelCrash'>여기</a>를 클릭하세요. \n",
      "\u001b[1;31m자세한 내용은 Jupyter <a href='command:jupyter.viewOutput'>로그</a>를 참조하세요."
     ]
    }
   ],
   "source": [
    "from tkinter import *\n",
    "from tkinter.filedialog import *\n",
    "\n",
    "window = Tk()\n",
    "window.geometry(\"400x100\")\n",
    "\n",
    "label1=Label(window, text=\"선택된 파일 이름\")\n",
    "label1.pack()\n",
    "\n",
    "saveFp = asksaveasfile(parent=window, mode=\"w\", defaultextension= \".jpg\", filetypes=((\"JPG 파일\", \"*.jpg;*.jpeg\"), (\"모든 파일\", \"*.*\")))\n",
    "\n",
    "label1.configure(text=saveFp)\n",
    "\n",
    "saveFp.close()\n",
    "# window.mainloop()"
   ]
  },
  {
   "cell_type": "markdown",
   "metadata": {},
   "source": [
    "## 메뉴 처리와 파일 처리"
   ]
  },
  {
   "cell_type": "code",
   "execution_count": 1,
   "metadata": {},
   "outputs": [],
   "source": [
    "from tkinter import *\n",
    "from tkinter.filedialog import *\n",
    "\n",
    "def func_open():\n",
    "    filename = askopenfilename(parent = window, filetypes=((\"GIF 파일\", \"*.gif\"), (\"모든 파일\", \"*.*\")))\n",
    "    photo = PhotoImage(file = filename)\n",
    "    pLabel.configure(image=photo)\n",
    "    pLabel.image = photo\n",
    "    \n",
    "def func_exit():\n",
    "    window.quit()\n",
    "    window.destroy()\n",
    "    \n",
    "window = Tk()\n",
    "window.geometry(\"400x400\")\n",
    "window.title(\"명화 감상하기\")\n",
    "\n",
    "photo = PhotoImage()\n",
    "pLabel = Label(window, image=photo)\n",
    "pLabel.pack(expand=1, anchor = CENTER)\n",
    "\n",
    "mainMenu = Menu(window)\n",
    "window.config(menu=mainMenu)\n",
    "fileMenu = Menu(mainMenu)\n",
    "mainMenu.add_cascade(label=\"파일\", menu=fileMenu)\n",
    "fileMenu.add_command(label=\"파일 열기\", command=func_open)\n",
    "fileMenu.add_separator()\n",
    "fileMenu.add_command(label=\"프로그램 종료\", command=func_exit)\n",
    "\n",
    "window.mainloop()"
   ]
  },
  {
   "cell_type": "markdown",
   "metadata": {},
   "source": [
    "## 갤러리"
   ]
  },
  {
   "cell_type": "code",
   "execution_count": 1,
   "metadata": {},
   "outputs": [
    {
     "name": "stderr",
     "output_type": "stream",
     "text": [
      "Exception in Tkinter callback\n",
      "Traceback (most recent call last):\n",
      "  File \"c:\\Users\\tlsdn\\AppData\\Local\\Programs\\Python\\Python312\\Lib\\tkinter\\__init__.py\", line 1967, in __call__\n",
      "    return self.func(*args)\n",
      "           ^^^^^^^^^^^^^^^^\n",
      "  File \"C:\\Users\\tlsdn\\AppData\\Local\\Temp\\ipykernel_13088\\3543759797.py\", line 22, in clickPrev\n",
      "    photo = PhotoImage(file=\"image/\" + fnameList[num])\n",
      "                                   ~~~~~~~~~^^^^^\n",
      "IndexError: list index out of range\n",
      "Exception in Tkinter callback\n",
      "Traceback (most recent call last):\n",
      "  File \"c:\\Users\\tlsdn\\AppData\\Local\\Programs\\Python\\Python312\\Lib\\tkinter\\__init__.py\", line 1967, in __call__\n",
      "    return self.func(*args)\n",
      "           ^^^^^^^^^^^^^^^^\n",
      "  File \"C:\\Users\\tlsdn\\AppData\\Local\\Temp\\ipykernel_13088\\3543759797.py\", line 22, in clickPrev\n",
      "    photo = PhotoImage(file=\"image/\" + fnameList[num])\n",
      "                                   ~~~~~~~~~^^^^^\n",
      "IndexError: list index out of range\n",
      "Exception in Tkinter callback\n",
      "Traceback (most recent call last):\n",
      "  File \"c:\\Users\\tlsdn\\AppData\\Local\\Programs\\Python\\Python312\\Lib\\tkinter\\__init__.py\", line 1967, in __call__\n",
      "    return self.func(*args)\n",
      "           ^^^^^^^^^^^^^^^^\n",
      "  File \"C:\\Users\\tlsdn\\AppData\\Local\\Temp\\ipykernel_13088\\3543759797.py\", line 22, in clickPrev\n",
      "    photo = PhotoImage(file=\"image/\" + fnameList[num])\n",
      "                                   ~~~~~~~~~^^^^^\n",
      "IndexError: list index out of range\n",
      "Exception in Tkinter callback\n",
      "Traceback (most recent call last):\n",
      "  File \"c:\\Users\\tlsdn\\AppData\\Local\\Programs\\Python\\Python312\\Lib\\tkinter\\__init__.py\", line 1967, in __call__\n",
      "    return self.func(*args)\n",
      "           ^^^^^^^^^^^^^^^^\n",
      "  File \"C:\\Users\\tlsdn\\AppData\\Local\\Temp\\ipykernel_13088\\3543759797.py\", line 13, in clickNext\n",
      "    photo = PhotoImage(file=\"image/\" + fnameList[num])\n",
      "                                       ~~~~~~~~~^^^^^\n",
      "IndexError: list index out of range\n",
      "Exception in Tkinter callback\n",
      "Traceback (most recent call last):\n",
      "  File \"c:\\Users\\tlsdn\\AppData\\Local\\Programs\\Python\\Python312\\Lib\\tkinter\\__init__.py\", line 1967, in __call__\n",
      "    return self.func(*args)\n",
      "           ^^^^^^^^^^^^^^^^\n",
      "  File \"C:\\Users\\tlsdn\\AppData\\Local\\Temp\\ipykernel_13088\\3543759797.py\", line 13, in clickNext\n",
      "    photo = PhotoImage(file=\"image/\" + fnameList[num])\n",
      "                                       ~~~~~~~~~^^^^^\n",
      "IndexError: list index out of range\n",
      "Exception in Tkinter callback\n",
      "Traceback (most recent call last):\n",
      "  File \"c:\\Users\\tlsdn\\AppData\\Local\\Programs\\Python\\Python312\\Lib\\tkinter\\__init__.py\", line 1967, in __call__\n",
      "    return self.func(*args)\n",
      "           ^^^^^^^^^^^^^^^^\n",
      "  File \"C:\\Users\\tlsdn\\AppData\\Local\\Temp\\ipykernel_13088\\3543759797.py\", line 13, in clickNext\n",
      "    photo = PhotoImage(file=\"image/\" + fnameList[num])\n",
      "                                       ~~~~~~~~~^^^^^\n",
      "IndexError: list index out of range\n"
     ]
    }
   ],
   "source": [
    "from tkinter import *\n",
    "from time import *\n",
    "\n",
    "fnameList = [\"1.gif\", \"2.gif\", '3.gif', '4.gif', '5.gif','6.gif'] # 사진 파일명\n",
    "photoList = [None] * 9 # PhotoImage() 함수로 생성할 변수들\n",
    "num = 0\n",
    "\n",
    "def clickNext():\n",
    "    global num\n",
    "    num += 1\n",
    "    if num > 8:\n",
    "        num=0\n",
    "    photo = PhotoImage(file=\"image/\" + fnameList[num])\n",
    "    pLabel.configure(image=photo) \n",
    "    pLabel.image = photo\n",
    "    \n",
    "def clickPrev():\n",
    "    global num\n",
    "    num -= 1\n",
    "    if num<0:\n",
    "        num=8\n",
    "    photo = PhotoImage(file=\"image/\" + fnameList[num])    \n",
    "    pLabel.configure(image = photo)\n",
    "    pLabel.image = photo\n",
    "\n",
    "window = Tk()\n",
    "window.geometry(\"700x500\")\n",
    "window.title(\"사진 앨범 보기\")\n",
    "\n",
    "btnPrev = Button(window, text=\"<< 이전\", command=clickPrev)\n",
    "btnNext = Button(window, text=\"다음 >>\", command=clickNext)\n",
    "\n",
    "photo = PhotoImage(file = \"image/\" + fnameList[0])\n",
    "pLabel = Label(window, image=photo)\n",
    "\n",
    "btnPrev.place(x=250, y=10)\n",
    "btnNext.place(x=400, y=10)\n",
    "pLabel.place(x=15, y=50)\n",
    "\n",
    "window.mainloop()\n"
   ]
  },
  {
   "cell_type": "markdown",
   "metadata": {},
   "source": [
    "# 파일 입출력"
   ]
  },
  {
   "cell_type": "code",
   "execution_count": 2,
   "metadata": {},
   "outputs": [
    {
     "ename": "FileNotFoundError",
     "evalue": "[Errno 2] No such file or directory: 'normal.txt'",
     "output_type": "error",
     "traceback": [
      "\u001b[1;31m---------------------------------------------------------------------------\u001b[0m",
      "\u001b[1;31mFileNotFoundError\u001b[0m                         Traceback (most recent call last)",
      "Cell \u001b[1;32mIn[2], line 15\u001b[0m\n\u001b[0;32m     12\u001b[0m \u001b[38;5;28;01melif\u001b[39;00m secuYN\u001b[38;5;241m==\u001b[39m\u001b[38;5;124m\"\u001b[39m\u001b[38;5;124m2\u001b[39m\u001b[38;5;124m\"\u001b[39m:\n\u001b[0;32m     13\u001b[0m     secu \u001b[38;5;241m=\u001b[39m \u001b[38;5;241m-\u001b[39m\u001b[38;5;241m100\u001b[39m\n\u001b[1;32m---> 15\u001b[0m inFp \u001b[38;5;241m=\u001b[39m \u001b[38;5;28;43mopen\u001b[39;49m\u001b[43m(\u001b[49m\u001b[43minFname\u001b[49m\u001b[43m,\u001b[49m\u001b[43m \u001b[49m\u001b[38;5;124;43m'\u001b[39;49m\u001b[38;5;124;43mr\u001b[39;49m\u001b[38;5;124;43m'\u001b[39;49m\u001b[43m,\u001b[49m\u001b[43m \u001b[49m\u001b[43mencoding\u001b[49m\u001b[38;5;241;43m=\u001b[39;49m\u001b[38;5;124;43m'\u001b[39;49m\u001b[38;5;124;43mutf-8\u001b[39;49m\u001b[38;5;124;43m'\u001b[39;49m\u001b[43m)\u001b[49m\n\u001b[0;32m     16\u001b[0m outFp \u001b[38;5;241m=\u001b[39m \u001b[38;5;28mopen\u001b[39m(outFname, \u001b[38;5;124m'\u001b[39m\u001b[38;5;124mw\u001b[39m\u001b[38;5;124m'\u001b[39m, encoding \u001b[38;5;241m=\u001b[39m \u001b[38;5;124m'\u001b[39m\u001b[38;5;124mutf-8\u001b[39m\u001b[38;5;124m'\u001b[39m)\n\u001b[0;32m     18\u001b[0m \u001b[38;5;28;01mwhile\u001b[39;00m \u001b[38;5;28;01mTrue\u001b[39;00m:\n",
      "File \u001b[1;32m~\\AppData\\Roaming\\Python\\Python312\\site-packages\\IPython\\core\\interactiveshell.py:324\u001b[0m, in \u001b[0;36m_modified_open\u001b[1;34m(file, *args, **kwargs)\u001b[0m\n\u001b[0;32m    317\u001b[0m \u001b[38;5;28;01mif\u001b[39;00m file \u001b[38;5;129;01min\u001b[39;00m {\u001b[38;5;241m0\u001b[39m, \u001b[38;5;241m1\u001b[39m, \u001b[38;5;241m2\u001b[39m}:\n\u001b[0;32m    318\u001b[0m     \u001b[38;5;28;01mraise\u001b[39;00m \u001b[38;5;167;01mValueError\u001b[39;00m(\n\u001b[0;32m    319\u001b[0m         \u001b[38;5;124mf\u001b[39m\u001b[38;5;124m\"\u001b[39m\u001b[38;5;124mIPython won\u001b[39m\u001b[38;5;124m'\u001b[39m\u001b[38;5;124mt let you open fd=\u001b[39m\u001b[38;5;132;01m{\u001b[39;00mfile\u001b[38;5;132;01m}\u001b[39;00m\u001b[38;5;124m by default \u001b[39m\u001b[38;5;124m\"\u001b[39m\n\u001b[0;32m    320\u001b[0m         \u001b[38;5;124m\"\u001b[39m\u001b[38;5;124mas it is likely to crash IPython. If you know what you are doing, \u001b[39m\u001b[38;5;124m\"\u001b[39m\n\u001b[0;32m    321\u001b[0m         \u001b[38;5;124m\"\u001b[39m\u001b[38;5;124myou can use builtins\u001b[39m\u001b[38;5;124m'\u001b[39m\u001b[38;5;124m open.\u001b[39m\u001b[38;5;124m\"\u001b[39m\n\u001b[0;32m    322\u001b[0m     )\n\u001b[1;32m--> 324\u001b[0m \u001b[38;5;28;01mreturn\u001b[39;00m \u001b[43mio_open\u001b[49m\u001b[43m(\u001b[49m\u001b[43mfile\u001b[49m\u001b[43m,\u001b[49m\u001b[43m \u001b[49m\u001b[38;5;241;43m*\u001b[39;49m\u001b[43margs\u001b[49m\u001b[43m,\u001b[49m\u001b[43m \u001b[49m\u001b[38;5;241;43m*\u001b[39;49m\u001b[38;5;241;43m*\u001b[39;49m\u001b[43mkwargs\u001b[49m\u001b[43m)\u001b[49m\n",
      "\u001b[1;31mFileNotFoundError\u001b[0m: [Errno 2] No such file or directory: 'normal.txt'"
     ]
    }
   ],
   "source": [
    "inFp, outFp = None, None\n",
    "inStr, outStr = \"\", \"\"\n",
    "i = 0\n",
    "secu = 0\n",
    "\n",
    "secuYN = input(\"1. 암호화 2. 암호 해석 중 선택 : \")\n",
    "inFname = input(\"입력 파일명을 입력하세요 : \")\n",
    "outFname = input(\"출력 파일명을 입력하세요 : \")\n",
    "\n",
    "# secu 변수값이 암호화할 때는 100으로 설정\n",
    "# 암호를 해독할 때는 secu 변수값이 -100으로 설정\n",
    "if secuYN ==\"1\":\n",
    "    secu=100\n",
    "elif secuYN==\"2\":\n",
    "    secu = -100\n",
    "\n",
    "inFp = open(inFname, 'r', encoding='utf-8')\n",
    "outFp = open(outFname, 'w', encoding = 'utf-8')\n",
    "\n",
    "# 입력 파일의 끝까지 읽으면서 무한 반복\n",
    "while True:\n",
    "    inStr = inFp.readline()\n",
    "    \n",
    "    # inStr에 읽어 온 것이 아무것도 없으면 while문 종료\n",
    "    if not inStr:\n",
    "        break\n",
    "\n",
    "    # outStr은 한 행을 암호화한 결과 저장하는 변수\n",
    "    outStr = \"\"\n",
    "    # 읽어 온 행의 글자 개수만큼 반복\n",
    "    for i in range(0, len(inStr)):\n",
    "        ch = inStr[i]\n",
    "        chNum = ord(ch) # 글자를 숫자로 변환 \n",
    "        chNum = chNum + secu \n",
    "        ch2 = chr(chNum) # 연산 진행 후 문자열로 변환\n",
    "        outStr = outStr + ch2\n",
    "    \n",
    "    outFp.write(outStr)\n",
    "    \n",
    "outFp.close()\n",
    "inFp.close()\n",
    "print('%s --> %s 변환 완료' % (inFname, outFname))"
   ]
  },
  {
   "cell_type": "code",
   "execution_count": 1,
   "metadata": {},
   "outputs": [
    {
     "ename": "KeyboardInterrupt",
     "evalue": "",
     "output_type": "error",
     "traceback": [
      "\u001b[1;31m---------------------------------------------------------------------------\u001b[0m",
      "\u001b[1;31mKeyboardInterrupt\u001b[0m                         Traceback (most recent call last)",
      "Cell \u001b[1;32mIn[1], line 24\u001b[0m\n\u001b[0;32m     21\u001b[0m canvas\u001b[38;5;241m.\u001b[39mcreate_image((XSIZE\u001b[38;5;241m/\u001b[39m\u001b[38;5;241m2\u001b[39m, YSIZE\u001b[38;5;241m/\u001b[39m\u001b[38;5;241m2\u001b[39m), image\u001b[38;5;241m=\u001b[39mpaper, state\u001b[38;5;241m=\u001b[39m\u001b[38;5;124m\"\u001b[39m\u001b[38;5;124mnormal\u001b[39m\u001b[38;5;124m\"\u001b[39m)\n\u001b[0;32m     23\u001b[0m canvas\u001b[38;5;241m.\u001b[39mpack()\n\u001b[1;32m---> 24\u001b[0m \u001b[43mwindow\u001b[49m\u001b[38;5;241;43m.\u001b[39;49m\u001b[43mmainloop\u001b[49m\u001b[43m(\u001b[49m\u001b[43m)\u001b[49m\n",
      "File \u001b[1;32mc:\\Users\\tlsdn\\AppData\\Local\\Programs\\Python\\Python312\\Lib\\tkinter\\__init__.py:1504\u001b[0m, in \u001b[0;36mMisc.mainloop\u001b[1;34m(self, n)\u001b[0m\n\u001b[0;32m   1502\u001b[0m \u001b[38;5;28;01mdef\u001b[39;00m \u001b[38;5;21mmainloop\u001b[39m(\u001b[38;5;28mself\u001b[39m, n\u001b[38;5;241m=\u001b[39m\u001b[38;5;241m0\u001b[39m):\n\u001b[0;32m   1503\u001b[0m \u001b[38;5;250m    \u001b[39m\u001b[38;5;124;03m\"\"\"Call the mainloop of Tk.\"\"\"\u001b[39;00m\n\u001b[1;32m-> 1504\u001b[0m     \u001b[38;5;28;43mself\u001b[39;49m\u001b[38;5;241;43m.\u001b[39;49m\u001b[43mtk\u001b[49m\u001b[38;5;241;43m.\u001b[39;49m\u001b[43mmainloop\u001b[49m\u001b[43m(\u001b[49m\u001b[43mn\u001b[49m\u001b[43m)\u001b[49m\n",
      "\u001b[1;31mKeyboardInterrupt\u001b[0m: "
     ]
    },
    {
     "ename": "",
     "evalue": "",
     "output_type": "error",
     "traceback": [
      "\u001b[1;31m현재 셀 또는 이전 셀에서 코드를 실행하는 동안 Kernel이 충돌했습니다. \n",
      "\u001b[1;31m셀의 코드를 검토하여 가능한 오류 원인을 식별하세요. \n",
      "\u001b[1;31m자세한 내용을 보려면 <a href='https://aka.ms/vscodeJupyterKernelCrash'>여기</a>를 클릭하세요. \n",
      "\u001b[1;31m자세한 내용은 Jupyter <a href='command:jupyter.viewOutput'>로그</a>를 참조하세요."
     ]
    }
   ],
   "source": [
    "from tkinter import *\n",
    "\n",
    "def loadImage(fname):\n",
    "    global inImage, XSIZE, YSIZE\n",
    "    fp = open(fname, 'rb')\n",
    "    \n",
    "    for i in range(0, XSIZE):\n",
    "        tmpList = []\n",
    "        for k in range(0, YSIZE):\n",
    "            data = int(ord(fp.read(1)))\n",
    "            tmpList.append(data)\n",
    "            \n",
    "\n",
    "window = None\n",
    "canvas = None\n",
    "XSIZE, YSIZE = 256, 256\n",
    "\n",
    "window = Tk()\n",
    "canvas = Canvas(window, height=XSIZE, width=YSIZE)\n",
    "paper = PhotoImage(width=XSIZE, height=YSIZE)\n",
    "canvas.create_image((XSIZE/2, YSIZE/2), image=paper, state=\"normal\")\n",
    "\n",
    "canvas.pack()\n",
    "window.mainloop()"
   ]
  },
  {
   "cell_type": "markdown",
   "metadata": {},
   "source": [
    "# Turtle"
   ]
  },
  {
   "cell_type": "code",
   "execution_count": null,
   "metadata": {},
   "outputs": [],
   "source": [
    "import random\n",
    "from tkinter.simpledialog import *\n",
    "import turtle\n",
    "\n",
    "def getString():\n",
    "    retStr = ''\n",
    "    retStr = askstring('문자열 입력', '거북이 쓸 문자열을 입력')\n",
    "    return retStr\n",
    "\n",
    "def getRGB():\n",
    "    r, g, b =0,0,0\n",
    "    r = random.random()\n",
    "    g = random.random()\n",
    "    b = random.random()\n",
    "    return(r, g, b)\n",
    "\n",
    "def getXYAS(sw, sh):\n",
    "    x, y, angle, size = 0,0,0,0\n",
    "    x = random.randrange(-sw/2, sw/2)\n",
    "    y = random.randrange(-sh/2, sh/2)\n",
    "    angle = random.randrange(0,360)\n",
    "    size = random.randrange(10, 50)\n",
    "    return [x,y,angle, size]\n",
    "\n",
    "inStr = ''\n",
    "swidth, sheight = 300, 300\n",
    "tX, tY, tAngle, tSize = [0]*4\n",
    "\n",
    "turtle.title('거북이 글자쓰기(모듈버전)')\n",
    "turtle.shape('turtle')\n",
    "turtle.setup(width=swidth+50, height=sheight+50)\n",
    "turtle.screensize(swidth, sheight)\n",
    "turtle.penup()\n",
    "turtle.speed(5)\n",
    "inStr = getString()\n",
    "\n",
    "for ch in inStr:\n",
    "    tX, tY, tAngle, txtSize = getXYAS(swidth, sheight)\n",
    "    r,g,b = getRGB()\n",
    "    \n",
    "    turtle.goto(tX, tY)\n",
    "    turtle.left(tAngle)\n",
    "    \n",
    "    turtle.pencolor((r,g,b))\n",
    "    turtle.write(ch, font = ('맑은고딕', txtSize, 'bold'))\n",
    "    \n",
    "turtle.done()"
   ]
  },
  {
   "cell_type": "code",
   "execution_count": 1,
   "metadata": {},
   "outputs": [
    {
     "name": "stdout",
     "output_type": "stream",
     "text": [
      "pygame 2.6.0 (SDL 2.28.4, Python 3.12.3)\n",
      "Hello from the pygame community. https://www.pygame.org/contribute.html\n"
     ]
    }
   ],
   "source": [
    "import pygame"
   ]
  },
  {
   "cell_type": "code",
   "execution_count": null,
   "metadata": {},
   "outputs": [],
   "source": []
  }
 ],
 "metadata": {
  "kernelspec": {
   "display_name": "Python 3",
   "language": "python",
   "name": "python3"
  },
  "language_info": {
   "codemirror_mode": {
    "name": "ipython",
    "version": 3
   },
   "file_extension": ".py",
   "mimetype": "text/x-python",
   "name": "python",
   "nbconvert_exporter": "python",
   "pygments_lexer": "ipython3",
   "version": "3.12.3"
  }
 },
 "nbformat": 4,
 "nbformat_minor": 2
}
